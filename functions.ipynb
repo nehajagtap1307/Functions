{
  "nbformat": 4,
  "nbformat_minor": 0,
  "metadata": {
    "colab": {
      "provenance": []
    },
    "kernelspec": {
      "name": "python3",
      "display_name": "Python 3"
    },
    "language_info": {
      "name": "python"
    }
  },
  "cells": [
    {
      "cell_type": "code",
      "execution_count": null,
      "metadata": {
        "colab": {
          "base_uri": "https://localhost:8080/"
        },
        "id": "ir1kmzdIRaCu",
        "outputId": "12629ff5-55e1-4d90-d26d-fbea7f2f5b6f"
      },
      "outputs": [
        {
          "output_type": "stream",
          "name": "stdout",
          "text": [
            "second no is greater\n",
            "3.2\n"
          ]
        }
      ],
      "source": [
        "#FUNCTIONS\n",
        "# Writing a function to calculate Geometric mean of two numbers and also checking which number is greater among them.\n",
        "def calculateGmean(a,b):\n",
        "  mean = (a*b)/(a+b)\n",
        "  print(mean)\n",
        "def isGreater(a,b):\n",
        "  if(a>b):\n",
        "    print(\"first no is greater\")\n",
        "  else:\n",
        "    print(\"second no is greater\")\n",
        "\n",
        "a=4\n",
        "b=16\n",
        "isGreater(a,b)\n",
        "calculateGmean(a,b)\n",
        "\n"
      ]
    },
    {
      "cell_type": "code",
      "source": [
        "#function to multiply two numbers\n",
        "def mul(x,y):\n",
        " product=x*y\n",
        " return product\n",
        "num=mul(2,3)\n",
        "print(num)\n"
      ],
      "metadata": {
        "colab": {
          "base_uri": "https://localhost:8080/"
        },
        "id": "PK3b91LYUuWJ",
        "outputId": "18002a8d-9851-40f5-d495-5deec34a64b8"
      },
      "execution_count": null,
      "outputs": [
        {
          "output_type": "stream",
          "name": "stdout",
          "text": [
            "6\n"
          ]
        }
      ]
    },
    {
      "cell_type": "code",
      "source": [
        "#function with no return statement\n",
        "def greet(name):\n",
        "  print(f\"hello,{name}!\")\n",
        "greet(\"Neha\")"
      ],
      "metadata": {
        "colab": {
          "base_uri": "https://localhost:8080/"
        },
        "id": "qE5GegKOowGB",
        "outputId": "59b2e726-05ff-4bdf-d2cd-e7148c1200b8"
      },
      "execution_count": null,
      "outputs": [
        {
          "output_type": "stream",
          "name": "stdout",
          "text": [
            "hello,Neha!\n"
          ]
        }
      ]
    },
    {
      "cell_type": "code",
      "source": [
        "#function to find maximum out of three numbers\n",
        "def max(a,b,c):\n",
        "  if (a>b & a>c):\n",
        "   print( a,\"is greater\")\n",
        "  elif (b>a &b>c):\n",
        "   print( b,\"is greater\")\n",
        "  else:\n",
        "   print(c,\" is greater\")\n",
        "maximum=max(2,5,9)\n",
        "print (maximum)"
      ],
      "metadata": {
        "colab": {
          "base_uri": "https://localhost:8080/"
        },
        "id": "rGP0-lYsphZY",
        "outputId": "04ae0608-03b3-4995-d80e-80c145ec46b7"
      },
      "execution_count": null,
      "outputs": [
        {
          "output_type": "stream",
          "name": "stdout",
          "text": [
            "9  is greater\n",
            "None\n"
          ]
        }
      ]
    },
    {
      "cell_type": "code",
      "source": [
        "#write a python function to create and print a list where values are squares of numbers between 1 to 30\n",
        "def squares():\n",
        "  l=list()\n",
        "  for i in range(1,31):\n",
        "    l.append(i**2)\n",
        "  print(l)\n",
        "squares()"
      ],
      "metadata": {
        "colab": {
          "base_uri": "https://localhost:8080/"
        },
        "id": "ToyeOcr3sg90",
        "outputId": "10f836d1-3273-4d58-e332-29ad131050e6"
      },
      "execution_count": null,
      "outputs": [
        {
          "output_type": "stream",
          "name": "stdout",
          "text": [
            "[1, 4, 9, 16, 25, 36, 49, 64, 81, 100, 121, 144, 169, 196, 225, 256, 289, 324, 361, 400, 441, 484, 529, 576, 625, 676, 729, 784, 841, 900]\n"
          ]
        }
      ]
    },
    {
      "cell_type": "code",
      "source": [
        "#Function with default argument\n",
        "def name(fname,mname=\"Arun\",lname=\"Jagtap\"):\n",
        "  print(\"hello,\",fname,mname,lname)\n",
        "name(\"Neha\")\n"
      ],
      "metadata": {
        "colab": {
          "base_uri": "https://localhost:8080/"
        },
        "id": "3vl6CuN5uA57",
        "outputId": "30812282-2233-4c18-fe56-9f2127994b2e"
      },
      "execution_count": null,
      "outputs": [
        {
          "output_type": "stream",
          "name": "stdout",
          "text": [
            "hello, Neha Arun Jagtap\n"
          ]
        }
      ]
    },
    {
      "cell_type": "code",
      "source": [
        "#Function with keyword argument\n",
        "def name(fname,mname,lname):\n",
        "  print(\"hello,\",fname,mname,lname)\n",
        "name(mname=\"Neha\",fname=\"Jagtap\",lname=\"Arun\")\n"
      ],
      "metadata": {
        "colab": {
          "base_uri": "https://localhost:8080/"
        },
        "id": "wj-fLhwKwdWP",
        "outputId": "e90988fe-88f6-4d93-d906-e0c73a0f8c28"
      },
      "execution_count": null,
      "outputs": [
        {
          "output_type": "stream",
          "name": "stdout",
          "text": [
            "hello, Jagtap Neha Arun\n"
          ]
        }
      ]
    },
    {
      "cell_type": "code",
      "source": [
        "# Required argument\n",
        "def avg(a,b,c=1):\n",
        "  print(\"avg=\",(a+b+c)/2)\n",
        "avg(5,6)\n"
      ],
      "metadata": {
        "id": "42qth4oFyOPe",
        "colab": {
          "base_uri": "https://localhost:8080/"
        },
        "outputId": "8776722c-377a-4e17-a726-d029c16c53d4"
      },
      "execution_count": 40,
      "outputs": [
        {
          "output_type": "stream",
          "name": "stdout",
          "text": [
            "avg= 6.0\n"
          ]
        }
      ]
    },
    {
      "cell_type": "code",
      "source": [
        "#Function with variable length argument\n",
        "def name(**name):\n",
        "  print(\"hello,\",name[\"fname\"],name[\"mname\"],name[\"lname\"])\n",
        "name(mname=\"Neha\",fname=\"Jagtap\",lname=\"Arun\")"
      ],
      "metadata": {
        "colab": {
          "base_uri": "https://localhost:8080/"
        },
        "id": "loWakJaM12dA",
        "outputId": "6d292dec-c8ad-4f00-c498-02528b636dce"
      },
      "execution_count": 41,
      "outputs": [
        {
          "output_type": "stream",
          "name": "stdout",
          "text": [
            "hello, Jagtap Neha Arun\n"
          ]
        }
      ]
    }
  ]
}